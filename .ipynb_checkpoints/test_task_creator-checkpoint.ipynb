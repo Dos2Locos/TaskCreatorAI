{
 "cells": [
  {
   "cell_type": "markdown",
   "metadata": {},
   "source": [
    "# Task Event Creator Testing\n",
    "\n",
    "This notebook demonstrates how to use the Task Event Creator to transform natural language task descriptions into structured task objects."
   ]
  },
  {
   "cell_type": "code",
   "execution_count": 1,
   "metadata": {},
   "outputs": [],
   "source": [
    "import os\n",
    "import json\n",
    "from openai import OpenAI\n",
    "from dotenv import load_dotenv\n",
    "from Task import Task\n",
    "from datetime import datetime\n",
    "from textwrap import dedent\n",
    "\n",
    "# Load environment variables\n",
    "load_dotenv()\n",
    "\n",
    "# Configure OpenAI client\n",
    "client = OpenAI(api_key=os.getenv('OPENAI_API_KEY'))\n",
    "model = os.getenv('OPENAI_MODEL')"
   ]
  },
  {
   "cell_type": "code",
   "execution_count": 4,
   "metadata": {},
   "outputs": [],
   "source": [
    "system_prompt = \"\"\"\n",
    "Eres un modelo de lenguaje especializado en convertir descripciones de tareas en JSON estructurados. Sigue estas reglas para cada tarea o nota:\n",
    "\n",
    "1. **`title`**: Extrae el título principal. Obligatorio.\n",
    "2. **`description`**: Incluye detalles adicionales o usa `\"\"` si no hay.\n",
    "3. **`is_completed`**: Por defecto `false`, salvo que se indique lo contrario.\n",
    "4. **Fechas**:\n",
    "   - **`due_date`**: Obligatorio si se menciona una fecha o recurrencia. Usa formato `YYYY-MM-DDTHH:MM:SSZ`. Ajusta horas según términos como:\n",
    "     - \"Por la mañana\" → `09:00:00`.\n",
    "     - \"Por la noche\" → `20:00:00`.\n",
    "   - **`start_date`**, **`end_date`**: Solo si hay un rango de fechas.\n",
    "5. **`assigned_to`**: Solo si se menciona a alguien.\n",
    "6. **`subject`**: Solo si se menciona un sujeto relacionado.\n",
    "7. **`location`**: Solo si se indica una ubicación.\n",
    "8. **Recurrencia**:\n",
    "   - **`is_recurring`**: `true` si es recurrente; incluye detalles en `recurrence` con:\n",
    "     - `frequency`, `interval`, `days_of_week`, y `nth_weekday_of_month` (si aplica).\n",
    "   - Si no es recurrente, usa `false` y omite `recurrence`.\n",
    "9. **`emoji_icon`**: Obligatorio. Incluye un emoji representativo.\n",
    "\n",
    "**Nota**: No incluyas campos sin valor. Siempre rellena `due_date` si hay una fecha mencionada.\n",
    "\"\"\""
   ]
  },
  {
   "cell_type": "code",
   "execution_count": 5,
   "metadata": {},
   "outputs": [],
   "source": [
    "task_description = \"Pasear los sábados por la tarde\""
   ]
  },
  {
   "cell_type": "code",
   "execution_count": null,
   "metadata": {},
   "outputs": [],
   "source": [
    "messages = [\n",
    "        {\n",
    "            \"role\": \"system\",\n",
    "            \"content\": dedent(current_system_prompt)\n",
    "        },\n",
    "        {\n",
    "            \"role\": \"user\",\n",
    "            \"content\": task_description\n",
    "        }\n",
    "    ]"
   ]
  }
 ],
 "metadata": {
  "kernelspec": {
   "display_name": "Python 3 (ipykernel)",
   "language": "python",
   "name": "python3"
  },
  "language_info": {
   "codemirror_mode": {
    "name": "ipython",
    "version": 3
   },
   "file_extension": ".py",
   "mimetype": "text/x-python",
   "name": "python",
   "nbconvert_exporter": "python",
   "pygments_lexer": "ipython3",
   "version": "3.12.3"
  }
 },
 "nbformat": 4,
 "nbformat_minor": 4
}
